{
 "cells": [
  {
   "cell_type": "code",
   "execution_count": 28,
   "id": "9163e8d2",
   "metadata": {},
   "outputs": [
    {
     "name": "stdout",
     "output_type": "stream",
     "text": [
      "room1  room4  room5  "
     ]
    }
   ],
   "source": [
    "import numpy as np\n",
    "\n",
    "class Room:\n",
    "    def __init__(self, 방ID, 지역, 날짜, 장르, 난이도, 공포도, 활동성):\n",
    "        self.방ID = 방ID\n",
    "        self.지역 = 지역\n",
    "        self.날짜 = 날짜\n",
    "        self.장르 = 장르\n",
    "        self.난이도 = 난이도\n",
    "        self.공포도 = 공포도\n",
    "        self.활동성 = 활동성\n",
    "\n",
    "room_datum = [\n",
    "    Room('room1','강남', '2023/06/12', 'Adevnture', '상', '중', '하'),\n",
    "    Room('room2','건대', '2023/06/20', 'Comedy', '중', '중', '하'),\n",
    "    Room('room3','대구', '2023/06/18', 'Thriller', '상', '하', '중'),\n",
    "    Room('room4','신촌', '2023/06/18', 'Thriller', '상', '하', '중'),\n",
    "    Room('room5','홍대', '2023/06/11', 'Thriller', '상', '하', '중')\n",
    "    # 추가적인 방 데이터를 필요한 만큼 추가할 수 있습니다.\n",
    "]\n",
    "\n",
    "user_option={\n",
    "    'area1': '홍대',\n",
    "    'area2': '강남',\n",
    "    'area3': '신촌',\n",
    "    'startdate': '2023/06/08',\n",
    "    'enddate': '2023/06/18',\n",
    "    'genre': 'Comedy',\n",
    "    'diff': '상',\n",
    "    'fear': '하',\n",
    "    'activity': '중'\n",
    "}\n",
    "user_option['startdate'] = int(user_option['startdate'].replace('/', ''))\n",
    "user_option['enddate'] = int(user_option['enddate'].replace('/', ''))\n",
    "\n",
    "for room in room_datum:\n",
    "    room.날짜 = int(room.날짜.replace('/', '')) \n",
    "\n",
    "filtered_rooms = []\n",
    "#filtered_rooms가 장르랑 난,공,활 유사도 측정해야햐는 방들\n",
    "\n",
    "for room in room_datum:\n",
    "    for i in range(1, 4):\n",
    "        if room.지역 == user_option[f'area{i}']:\n",
    "            if room.날짜 >= user_option['startdate'] and room.날짜 <= user_option['enddate']:\n",
    "                filtered_rooms.append(room)\n",
    "            break  # 일치하는 경우를 찾았으므로 루프를 종료합니다.\n",
    "\n",
    "for room in filtered_rooms: #해당 조건을 만족한 방들만 출력됨\n",
    "    print(room.방ID, end='  ')            "
   ]
  },
  {
   "cell_type": "code",
   "execution_count": null,
   "id": "18019e70",
   "metadata": {},
   "outputs": [],
   "source": []
  }
 ],
 "metadata": {
  "kernelspec": {
   "display_name": "Python 3 (ipykernel)",
   "language": "python",
   "name": "python3"
  },
  "language_info": {
   "codemirror_mode": {
    "name": "ipython",
    "version": 3
   },
   "file_extension": ".py",
   "mimetype": "text/x-python",
   "name": "python",
   "nbconvert_exporter": "python",
   "pygments_lexer": "ipython3",
   "version": "3.11.3"
  }
 },
 "nbformat": 4,
 "nbformat_minor": 5
}
