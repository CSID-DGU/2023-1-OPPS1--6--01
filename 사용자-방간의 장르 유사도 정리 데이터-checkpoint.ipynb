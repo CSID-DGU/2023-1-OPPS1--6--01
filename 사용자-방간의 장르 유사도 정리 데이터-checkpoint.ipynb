{
 "cells": [
  {
   "cell_type": "code",
   "execution_count": 1,
   "id": "421266c3",
   "metadata": {},
   "outputs": [
    {
     "name": "stdout",
     "output_type": "stream",
     "text": [
      "[0, 0, 0.2395, 0.0263, 0.1156, 0, 0]\n"
     ]
    }
   ],
   "source": [
    "import numpy as np\n",
    "\n",
    "symbol_mapping = {\n",
    "    'no matter': -1,\n",
    "    'Adventure': 0,\n",
    "    'Comedy': 1,\n",
    "    'Fantasy': 2,\n",
    "    'Romance': 3,\n",
    "    'Thriller': 4,\n",
    "    'Drama': 5,\n",
    "    'Horror': 6,\n",
    "    'Sci-fi': 7,\n",
    "    'Mystery': 8,\n",
    "    'Action': 9\n",
    "}\n",
    "\n",
    "\n",
    "genre_similarity=[[1,0.1469,0.1952,0,0.1971,0,0,0,0,0.1471,0,0.2712],\n",
    " [0.147,1,0.2395,0.0263,0.1156,0,0,0,0,0.0412,0,0.0232],\n",
    " [0.1952,0.2395,1,0.0817,0.1416,0,0,0,0,0,0,0],\n",
    " [0,0.0263,0.0817,1,0,0.1633,0,0,0,0,0,0],\n",
    " [0.1971,0.1155,0.1416,0,1,0,0,0,0.0087,0.0323,0.0085,0.0505],\n",
    " [0,0,0,0.1633,0,1,0,0.132,0,0,0,0],\n",
    " [0,0,0,0,0,0,1,0,0.2064,0.0866,0.2043,0.1999],\n",
    " [0,0,0,0,0,0.132,0,1,0,0,0.0249,0],\n",
    " [0,0,0,0,0.0087,0,0.2064,0,1,0.0929,0.0685,0],\n",
    " [0.1471,0.0411,0,0,0.0323,0,0.0866,0,0.0929,1,0.0103,0.2061],\n",
    " [0,0,0,0,0.0085,0,0.2043,0.0248,0.0685,0.0103,1,0],\n",
    " [0.2712,0.0232,0,0,0.0505,0,0.1999,0,0,0.2061,0,1]]\n",
    "\n",
    "\n",
    "#print(genre_similarity)\n",
    "#방과 장르 정보(얜 배열이니까 인덱스 번호를 고려해서 라벨번호부여함)\n",
    "\n",
    "room_genres = {\n",
    "   \"방1\": 'no matter',\n",
    "   \"방2\": 'no matter',\n",
    "   \"방3\": 'Fantasy',\n",
    "   \"방4\": 'Romance',\n",
    "   \"방5\": 'Thriller',\n",
    "   \"방6\": 'Drama',\n",
    "   \"방7\": 'Horror',\n",
    "}\n",
    "\n",
    "\n",
    "user_genre = 'Comedy'\n",
    "#for room, room_genre in room_genres.items():\n",
    "#    print(f\"{room}의 장르: {room_genre}\")\n",
    "\n",
    "\n",
    "#새로운 배열 생성\n",
    "new_array = []\n",
    "\n",
    "# 사용자 장르 번호를 행으로, 각 방의 장르 번호를 열로 참조하여 값 가져와 새로운 배열에 저장\n",
    "if user_genre == 'no matter':\n",
    "    for room, room_genre in room_genres.items():\n",
    "        new_array.append(0) #해당 방들의 유사도는 다 0으로 저장함        \n",
    "else :       \n",
    "    for room, room_genre in room_genres.items():\n",
    "        row_index=symbol_mapping[user_genre]\n",
    "        column_index=symbol_mapping[room_genre]\n",
    "        if column_index == -1 :\n",
    "            new_array.append(0)\n",
    "        else :\n",
    "            similarity_value = genre_similarity[row_index][column_index]\n",
    "            new_array.append(similarity_value)\n",
    "\n",
    "# 결과 출력\n",
    "print(new_array)"
   ]
  }
 ],
 "metadata": {
  "kernelspec": {
   "display_name": "Python 3 (ipykernel)",
   "language": "python",
   "name": "python3"
  },
  "language_info": {
   "codemirror_mode": {
    "name": "ipython",
    "version": 3
   },
   "file_extension": ".py",
   "mimetype": "text/x-python",
   "name": "python",
   "nbconvert_exporter": "python",
   "pygments_lexer": "ipython3",
   "version": "3.11.3"
  }
 },
 "nbformat": 4,
 "nbformat_minor": 5
}
