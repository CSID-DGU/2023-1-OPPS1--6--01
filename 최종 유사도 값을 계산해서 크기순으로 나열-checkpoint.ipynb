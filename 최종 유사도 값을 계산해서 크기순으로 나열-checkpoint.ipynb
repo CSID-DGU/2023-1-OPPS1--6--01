{
 "cells": [
  {
   "cell_type": "code",
   "execution_count": 10,
   "id": "f3f70251",
   "metadata": {},
   "outputs": [
    {
     "name": "stdout",
     "output_type": "stream",
     "text": [
      "Requirement already satisfied: numpy in c:\\users\\user\\appdata\\local\\programs\\python\\python311\\lib\\site-packages (1.24.3)\n"
     ]
    }
   ],
   "source": [
    "!pip install numpy"
   ]
  },
  {
   "cell_type": "code",
   "execution_count": null,
   "id": "fa2c4027",
   "metadata": {},
   "outputs": [
    {
     "name": "stdout",
     "output_type": "stream",
     "text": [
      "[1. 1. 2.]\n",
      "[0.  0.4 0. ]\n",
      "[1.  0.6 2. ]\n",
      "[2 0 1]\n",
      "\n",
      "room3\n",
      "room1\n",
      "room2\n"
     ]
    }
   ],
   "source": [
    "import numpy as np\n",
    "\n",
    "genre_similarity = {\n",
    "    \"room1\": 0.5,\n",
    "    \"room2\": 0.9,\n",
    "    \"room3\": 1\n",
    "}\n",
    "#각 방의 장르 유사도 예시\n",
    "\n",
    "property_similarity = {\n",
    "    \"room1\": 0.5,\n",
    "    \"room2\": 0.1,\n",
    "    \"room3\": 1\n",
    "}\n",
    "#각 방의 난,공,활 유사도 예시\n",
    "\n",
    "genre_values = np.array(list(genre_similarity.values()))\n",
    "property_values = np.array(list(property_similarity.values()))\n",
    "# 두 유사도의 값을 넘파이 배열로 변환\n",
    "\n",
    "sum_similarity=genre_values+property_values\n",
    "# 각 방의 유사도 합을 계산\n",
    "\n",
    "total_similarity = np.concatenate((genre_values, property_values))\n",
    "\n",
    "total_similarity = np.reshape(total_similarity, (2, 3))\n",
    "\n",
    "total_similarity_std=total_similarity.std(axis=0)\n",
    "# 각 방의 유사도간 표준편차 계산\n",
    "\n",
    "diff_similarity=sum_similarity-total_similarity_std\n",
    "print(sum_similarity)\n",
    "print(total_similarity_std)\n",
    "print(diff_similarity)\n",
    "# (두 유사도의 합)-(유사도간 표준편차)\n",
    "\n",
    "diff_similarity = sum_similarity - total_similarity_std\n",
    "\n",
    "sorted_diff_similarity = np.argsort(diff_similarity, axis=None)[::-1]  # 크기순으로 정렬된 인덱스\n",
    "\n",
    "#sorted_diff_similarity = diff_similarity.flatten()[sorted_indices]  # 크기순으로 정렬된 diff_similarity\n",
    "#print(sorted_diff_similarity)\n",
    "print( )\n",
    "for i in sorted_diff_similarity :\n",
    "    print('room'+str(i+1))"
   ]
  }
 ],
 "metadata": {
  "kernelspec": {
   "display_name": "Python 3 (ipykernel)",
   "language": "python",
   "name": "python3"
  },
  "language_info": {
   "codemirror_mode": {
    "name": "ipython",
    "version": 3
   },
   "file_extension": ".py",
   "mimetype": "text/x-python",
   "name": "python",
   "nbconvert_exporter": "python",
   "pygments_lexer": "ipython3",
   "version": "3.11.3"
  }
 },
 "nbformat": 4,
 "nbformat_minor": 5
}
